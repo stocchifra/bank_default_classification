{
 "cells": [
  {
   "cell_type": "code",
   "execution_count": 20,
   "metadata": {},
   "outputs": [],
   "source": [
    "import pandas as pd\n",
    "import numpy as np\n",
    "from sklearn.model_selection import train_test_split\n",
    "from sklearn.preprocessing import StandardScaler\n",
    "from tensorflow.keras import layers, models\n",
    "from tensorflow.keras.callbacks import EarlyStopping\n",
    "from bayes_opt import BayesianOptimization\n",
    "import matplotlib.pyplot as plt\n",
    "from sklearn.metrics import confusion_matrix\n",
    "import itertools\n",
    "np.random.seed(2)"
   ]
  },
  {
   "cell_type": "code",
   "execution_count": 21,
   "metadata": {},
   "outputs": [],
   "source": [
    "data = pd.read_csv('bankPortfolios.csv')\n"
   ]
  },
  {
   "cell_type": "code",
   "execution_count": 22,
   "metadata": {},
   "outputs": [
    {
     "data": {
      "text/html": [
       "<div>\n",
       "<style scoped>\n",
       "    .dataframe tbody tr th:only-of-type {\n",
       "        vertical-align: middle;\n",
       "    }\n",
       "\n",
       "    .dataframe tbody tr th {\n",
       "        vertical-align: top;\n",
       "    }\n",
       "\n",
       "    .dataframe thead th {\n",
       "        text-align: right;\n",
       "    }\n",
       "</style>\n",
       "<table border=\"1\" class=\"dataframe\">\n",
       "  <thead>\n",
       "    <tr style=\"text-align: right;\">\n",
       "      <th></th>\n",
       "      <th>2699</th>\n",
       "      <th>6107</th>\n",
       "      <th>9965</th>\n",
       "      <th>1036</th>\n",
       "      <th>2924</th>\n",
       "      <th>3786</th>\n",
       "      <th>4573</th>\n",
       "      <th>1087</th>\n",
       "      <th>617</th>\n",
       "      <th>76.827</th>\n",
       "      <th>769</th>\n",
       "      <th>1828.2</th>\n",
       "      <th>381</th>\n",
       "      <th>933</th>\n",
       "      <th>32673</th>\n",
       "      <th>1</th>\n",
       "    </tr>\n",
       "  </thead>\n",
       "  <tbody>\n",
       "    <tr>\n",
       "      <th>0</th>\n",
       "      <td>759920.0</td>\n",
       "      <td>6480.0</td>\n",
       "      <td>588660.0</td>\n",
       "      <td>528110.0</td>\n",
       "      <td>1188700.0</td>\n",
       "      <td>169400.0</td>\n",
       "      <td>174890.0</td>\n",
       "      <td>10210.0</td>\n",
       "      <td>6566.0</td>\n",
       "      <td>21101.00</td>\n",
       "      <td>211210.0</td>\n",
       "      <td>428740.0</td>\n",
       "      <td>82487.0</td>\n",
       "      <td>68882.0</td>\n",
       "      <td>3770300.0</td>\n",
       "      <td>1</td>\n",
       "    </tr>\n",
       "    <tr>\n",
       "      <th>1</th>\n",
       "      <td>129080.0</td>\n",
       "      <td>729.0</td>\n",
       "      <td>72972.0</td>\n",
       "      <td>3310.0</td>\n",
       "      <td>73909.0</td>\n",
       "      <td>34.0</td>\n",
       "      <td>44928.0</td>\n",
       "      <td>32995.0</td>\n",
       "      <td>409.0</td>\n",
       "      <td>502.00</td>\n",
       "      <td>15599.0</td>\n",
       "      <td>57902.0</td>\n",
       "      <td>20800.0</td>\n",
       "      <td>12168.0</td>\n",
       "      <td>423250.0</td>\n",
       "      <td>1</td>\n",
       "    </tr>\n",
       "    <tr>\n",
       "      <th>2</th>\n",
       "      <td>57828.0</td>\n",
       "      <td>1449.8</td>\n",
       "      <td>27634.0</td>\n",
       "      <td>1739.0</td>\n",
       "      <td>39274.0</td>\n",
       "      <td>1838.3</td>\n",
       "      <td>9854.0</td>\n",
       "      <td>1900.0</td>\n",
       "      <td>321.0</td>\n",
       "      <td>228.98</td>\n",
       "      <td>2291.9</td>\n",
       "      <td>7696.0</td>\n",
       "      <td>4609.0</td>\n",
       "      <td>7823.0</td>\n",
       "      <td>145830.0</td>\n",
       "      <td>1</td>\n",
       "    </tr>\n",
       "    <tr>\n",
       "      <th>3</th>\n",
       "      <td>1021.0</td>\n",
       "      <td>14222.0</td>\n",
       "      <td>3186.0</td>\n",
       "      <td>35.0</td>\n",
       "      <td>4776.0</td>\n",
       "      <td>29645.0</td>\n",
       "      <td>9295.0</td>\n",
       "      <td>3245.0</td>\n",
       "      <td>493.0</td>\n",
       "      <td>215.00</td>\n",
       "      <td>4932.0</td>\n",
       "      <td>20818.0</td>\n",
       "      <td>891.0</td>\n",
       "      <td>3661.0</td>\n",
       "      <td>87600.0</td>\n",
       "      <td>1</td>\n",
       "    </tr>\n",
       "    <tr>\n",
       "      <th>4</th>\n",
       "      <td>149560.0</td>\n",
       "      <td>93281.0</td>\n",
       "      <td>211800.0</td>\n",
       "      <td>7950.0</td>\n",
       "      <td>151300.0</td>\n",
       "      <td>16933.0</td>\n",
       "      <td>32142.0</td>\n",
       "      <td>2020.0</td>\n",
       "      <td>880.0</td>\n",
       "      <td>3106.00</td>\n",
       "      <td>17057.0</td>\n",
       "      <td>137950.0</td>\n",
       "      <td>12992.0</td>\n",
       "      <td>22517.0</td>\n",
       "      <td>792090.0</td>\n",
       "      <td>1</td>\n",
       "    </tr>\n",
       "  </tbody>\n",
       "</table>\n",
       "</div>"
      ],
      "text/plain": [
       "       2699     6107      9965      1036       2924      3786      4573  \\\n",
       "0  759920.0   6480.0  588660.0  528110.0  1188700.0  169400.0  174890.0   \n",
       "1  129080.0    729.0   72972.0    3310.0    73909.0      34.0   44928.0   \n",
       "2   57828.0   1449.8   27634.0    1739.0    39274.0    1838.3    9854.0   \n",
       "3    1021.0  14222.0    3186.0      35.0     4776.0   29645.0    9295.0   \n",
       "4  149560.0  93281.0  211800.0    7950.0   151300.0   16933.0   32142.0   \n",
       "\n",
       "      1087     617    76.827       769    1828.2      381      933      32673  \\\n",
       "0  10210.0  6566.0  21101.00  211210.0  428740.0  82487.0  68882.0  3770300.0   \n",
       "1  32995.0   409.0    502.00   15599.0   57902.0  20800.0  12168.0   423250.0   \n",
       "2   1900.0   321.0    228.98    2291.9    7696.0   4609.0   7823.0   145830.0   \n",
       "3   3245.0   493.0    215.00    4932.0   20818.0    891.0   3661.0    87600.0   \n",
       "4   2020.0   880.0   3106.00   17057.0  137950.0  12992.0  22517.0   792090.0   \n",
       "\n",
       "   1  \n",
       "0  1  \n",
       "1  1  \n",
       "2  1  \n",
       "3  1  \n",
       "4  1  "
      ]
     },
     "execution_count": 22,
     "metadata": {},
     "output_type": "execute_result"
    }
   ],
   "source": [
    "data.head()\n"
   ]
  },
  {
   "cell_type": "markdown",
   "metadata": {},
   "source": [
    "## PROCESSING DATA"
   ]
  },
  {
   "cell_type": "code",
   "execution_count": 23,
   "metadata": {},
   "outputs": [],
   "source": [
    "from sklearn.preprocessing import StandardScaler\n",
    "# normalizing the data for all the columns except for the last one\n",
    "sc = StandardScaler()\n",
    "data.iloc[:, :-1] = sc.fit_transform(data.iloc[:, :-1])\n"
   ]
  },
  {
   "cell_type": "code",
   "execution_count": 24,
   "metadata": {},
   "outputs": [
    {
     "data": {
      "text/html": [
       "<div>\n",
       "<style scoped>\n",
       "    .dataframe tbody tr th:only-of-type {\n",
       "        vertical-align: middle;\n",
       "    }\n",
       "\n",
       "    .dataframe tbody tr th {\n",
       "        vertical-align: top;\n",
       "    }\n",
       "\n",
       "    .dataframe thead th {\n",
       "        text-align: right;\n",
       "    }\n",
       "</style>\n",
       "<table border=\"1\" class=\"dataframe\">\n",
       "  <thead>\n",
       "    <tr style=\"text-align: right;\">\n",
       "      <th></th>\n",
       "      <th>2699</th>\n",
       "      <th>6107</th>\n",
       "      <th>9965</th>\n",
       "      <th>1036</th>\n",
       "      <th>2924</th>\n",
       "      <th>3786</th>\n",
       "      <th>4573</th>\n",
       "      <th>1087</th>\n",
       "      <th>617</th>\n",
       "      <th>76.827</th>\n",
       "      <th>769</th>\n",
       "      <th>1828.2</th>\n",
       "      <th>381</th>\n",
       "      <th>933</th>\n",
       "      <th>32673</th>\n",
       "      <th>Class</th>\n",
       "    </tr>\n",
       "  </thead>\n",
       "  <tbody>\n",
       "    <tr>\n",
       "      <th>0</th>\n",
       "      <td>0.626612</td>\n",
       "      <td>-0.039225</td>\n",
       "      <td>0.021046</td>\n",
       "      <td>1.363177</td>\n",
       "      <td>0.581567</td>\n",
       "      <td>0.278336</td>\n",
       "      <td>-0.007969</td>\n",
       "      <td>-0.037124</td>\n",
       "      <td>-0.023536</td>\n",
       "      <td>0.033683</td>\n",
       "      <td>0.048713</td>\n",
       "      <td>0.024422</td>\n",
       "      <td>0.203004</td>\n",
       "      <td>0.003597</td>\n",
       "      <td>0.087925</td>\n",
       "      <td>1</td>\n",
       "    </tr>\n",
       "    <tr>\n",
       "      <th>1</th>\n",
       "      <td>0.028024</td>\n",
       "      <td>-0.048131</td>\n",
       "      <td>-0.034434</td>\n",
       "      <td>-0.055347</td>\n",
       "      <td>-0.047822</td>\n",
       "      <td>-0.057001</td>\n",
       "      <td>-0.040954</td>\n",
       "      <td>-0.031949</td>\n",
       "      <td>-0.028403</td>\n",
       "      <td>-0.048722</td>\n",
       "      <td>-0.036377</td>\n",
       "      <td>-0.038803</td>\n",
       "      <td>0.006786</td>\n",
       "      <td>-0.036993</td>\n",
       "      <td>-0.039332</td>\n",
       "      <td>1</td>\n",
       "    </tr>\n",
       "    <tr>\n",
       "      <th>2</th>\n",
       "      <td>-0.039585</td>\n",
       "      <td>-0.047015</td>\n",
       "      <td>-0.039312</td>\n",
       "      <td>-0.059593</td>\n",
       "      <td>-0.067376</td>\n",
       "      <td>-0.053429</td>\n",
       "      <td>-0.049856</td>\n",
       "      <td>-0.039011</td>\n",
       "      <td>-0.028472</td>\n",
       "      <td>-0.049814</td>\n",
       "      <td>-0.042165</td>\n",
       "      <td>-0.047362</td>\n",
       "      <td>-0.044715</td>\n",
       "      <td>-0.040103</td>\n",
       "      <td>-0.049880</td>\n",
       "      <td>1</td>\n",
       "    </tr>\n",
       "    <tr>\n",
       "      <th>3</th>\n",
       "      <td>-0.093488</td>\n",
       "      <td>-0.027235</td>\n",
       "      <td>-0.041942</td>\n",
       "      <td>-0.064199</td>\n",
       "      <td>-0.086853</td>\n",
       "      <td>0.001627</td>\n",
       "      <td>-0.049998</td>\n",
       "      <td>-0.038706</td>\n",
       "      <td>-0.028336</td>\n",
       "      <td>-0.049870</td>\n",
       "      <td>-0.041017</td>\n",
       "      <td>-0.045125</td>\n",
       "      <td>-0.056542</td>\n",
       "      <td>-0.043081</td>\n",
       "      <td>-0.052094</td>\n",
       "      <td>1</td>\n",
       "    </tr>\n",
       "    <tr>\n",
       "      <th>4</th>\n",
       "      <td>0.047457</td>\n",
       "      <td>0.095199</td>\n",
       "      <td>-0.019499</td>\n",
       "      <td>-0.042805</td>\n",
       "      <td>-0.004129</td>\n",
       "      <td>-0.023542</td>\n",
       "      <td>-0.044200</td>\n",
       "      <td>-0.038984</td>\n",
       "      <td>-0.028030</td>\n",
       "      <td>-0.038304</td>\n",
       "      <td>-0.035743</td>\n",
       "      <td>-0.025155</td>\n",
       "      <td>-0.018050</td>\n",
       "      <td>-0.029586</td>\n",
       "      <td>-0.025309</td>\n",
       "      <td>1</td>\n",
       "    </tr>\n",
       "  </tbody>\n",
       "</table>\n",
       "</div>"
      ],
      "text/plain": [
       "       2699      6107      9965      1036      2924      3786      4573  \\\n",
       "0  0.626612 -0.039225  0.021046  1.363177  0.581567  0.278336 -0.007969   \n",
       "1  0.028024 -0.048131 -0.034434 -0.055347 -0.047822 -0.057001 -0.040954   \n",
       "2 -0.039585 -0.047015 -0.039312 -0.059593 -0.067376 -0.053429 -0.049856   \n",
       "3 -0.093488 -0.027235 -0.041942 -0.064199 -0.086853  0.001627 -0.049998   \n",
       "4  0.047457  0.095199 -0.019499 -0.042805 -0.004129 -0.023542 -0.044200   \n",
       "\n",
       "       1087       617    76.827       769    1828.2       381       933  \\\n",
       "0 -0.037124 -0.023536  0.033683  0.048713  0.024422  0.203004  0.003597   \n",
       "1 -0.031949 -0.028403 -0.048722 -0.036377 -0.038803  0.006786 -0.036993   \n",
       "2 -0.039011 -0.028472 -0.049814 -0.042165 -0.047362 -0.044715 -0.040103   \n",
       "3 -0.038706 -0.028336 -0.049870 -0.041017 -0.045125 -0.056542 -0.043081   \n",
       "4 -0.038984 -0.028030 -0.038304 -0.035743 -0.025155 -0.018050 -0.029586   \n",
       "\n",
       "      32673  Class  \n",
       "0  0.087925      1  \n",
       "1 -0.039332      1  \n",
       "2 -0.049880      1  \n",
       "3 -0.052094      1  \n",
       "4 -0.025309      1  "
      ]
     },
     "execution_count": 24,
     "metadata": {},
     "output_type": "execute_result"
    }
   ],
   "source": [
    "# change the last column name 1 to 'Class'\n",
    "data.rename(columns={'1': 'Class'}, inplace=True)\n",
    "data.head()"
   ]
  },
  {
   "cell_type": "code",
   "execution_count": 25,
   "metadata": {},
   "outputs": [],
   "source": [
    "X = data.iloc[:, data.columns != 'Class']\n",
    "y = data.iloc[:, data.columns == 'Class']"
   ]
  },
  {
   "cell_type": "code",
   "execution_count": 26,
   "metadata": {},
   "outputs": [
    {
     "data": {
      "text/html": [
       "<div>\n",
       "<style scoped>\n",
       "    .dataframe tbody tr th:only-of-type {\n",
       "        vertical-align: middle;\n",
       "    }\n",
       "\n",
       "    .dataframe tbody tr th {\n",
       "        vertical-align: top;\n",
       "    }\n",
       "\n",
       "    .dataframe thead th {\n",
       "        text-align: right;\n",
       "    }\n",
       "</style>\n",
       "<table border=\"1\" class=\"dataframe\">\n",
       "  <thead>\n",
       "    <tr style=\"text-align: right;\">\n",
       "      <th></th>\n",
       "      <th>Class</th>\n",
       "    </tr>\n",
       "  </thead>\n",
       "  <tbody>\n",
       "    <tr>\n",
       "      <th>0</th>\n",
       "      <td>1</td>\n",
       "    </tr>\n",
       "    <tr>\n",
       "      <th>1</th>\n",
       "      <td>1</td>\n",
       "    </tr>\n",
       "    <tr>\n",
       "      <th>2</th>\n",
       "      <td>1</td>\n",
       "    </tr>\n",
       "    <tr>\n",
       "      <th>3</th>\n",
       "      <td>1</td>\n",
       "    </tr>\n",
       "    <tr>\n",
       "      <th>4</th>\n",
       "      <td>1</td>\n",
       "    </tr>\n",
       "  </tbody>\n",
       "</table>\n",
       "</div>"
      ],
      "text/plain": [
       "   Class\n",
       "0      1\n",
       "1      1\n",
       "2      1\n",
       "3      1\n",
       "4      1"
      ]
     },
     "execution_count": 26,
     "metadata": {},
     "output_type": "execute_result"
    }
   ],
   "source": [
    "y.head()\n"
   ]
  },
  {
   "cell_type": "code",
   "execution_count": 27,
   "metadata": {},
   "outputs": [],
   "source": [
    "from sklearn.model_selection import train_test_split\n",
    "X_train, X_test, y_train, y_test = train_test_split(X,y, test_size = 0.3, random_state=0)"
   ]
  },
  {
   "cell_type": "code",
   "execution_count": 28,
   "metadata": {},
   "outputs": [
    {
     "data": {
      "text/plain": [
       "(5447, 15)"
      ]
     },
     "execution_count": 28,
     "metadata": {},
     "output_type": "execute_result"
    }
   ],
   "source": [
    "X_train.shape\n"
   ]
  },
  {
   "cell_type": "code",
   "execution_count": 29,
   "metadata": {},
   "outputs": [
    {
     "data": {
      "text/plain": [
       "(2335, 15)"
      ]
     },
     "execution_count": 29,
     "metadata": {},
     "output_type": "execute_result"
    }
   ],
   "source": [
    "X_test.shape\n"
   ]
  },
  {
   "cell_type": "code",
   "execution_count": 30,
   "metadata": {},
   "outputs": [
    {
     "data": {
      "text/plain": [
       "pandas.core.frame.DataFrame"
      ]
     },
     "execution_count": 30,
     "metadata": {},
     "output_type": "execute_result"
    }
   ],
   "source": [
    "# X_test type \n",
    "type(X_test)"
   ]
  },
  {
   "cell_type": "code",
   "execution_count": 31,
   "metadata": {},
   "outputs": [],
   "source": [
    "y_train = y_train.squeeze() \n",
    "y_test = y_test.squeeze()   \n"
   ]
  },
  {
   "cell_type": "markdown",
   "metadata": {},
   "source": [
    "## BAYESIAN OPTMIZATION FOR HYPERPARAMETER "
   ]
  },
  {
   "cell_type": "code",
   "execution_count": 32,
   "metadata": {},
   "outputs": [
    {
     "name": "stdout",
     "output_type": "stream",
     "text": [
      "|   iter    |  target   | n_neurons |\n",
      "-------------------------------------\n"
     ]
    },
    {
     "name": "stderr",
     "output_type": "stream",
     "text": [
      "/Users/francescostocchi/anaconda3/envs/machine_learning/lib/python3.11/site-packages/keras/src/layers/core/dense.py:88: UserWarning: Do not pass an `input_shape`/`input_dim` argument to a layer. When using Sequential models, prefer using an `Input(shape)` object as the first layer in the model instead.\n",
      "  super().__init__(activity_regularizer=activity_regularizer, **kwargs)\n"
     ]
    },
    {
     "name": "stdout",
     "output_type": "stream",
     "text": [
      "| \u001b[0m1        \u001b[0m | \u001b[0m-0.4124  \u001b[0m | \u001b[0m62.71    \u001b[0m |\n"
     ]
    },
    {
     "name": "stderr",
     "output_type": "stream",
     "text": [
      "/Users/francescostocchi/anaconda3/envs/machine_learning/lib/python3.11/site-packages/keras/src/layers/core/dense.py:88: UserWarning: Do not pass an `input_shape`/`input_dim` argument to a layer. When using Sequential models, prefer using an `Input(shape)` object as the first layer in the model instead.\n",
      "  super().__init__(activity_regularizer=activity_regularizer, **kwargs)\n"
     ]
    },
    {
     "name": "stdout",
     "output_type": "stream",
     "text": [
      "| \u001b[0m2        \u001b[0m | \u001b[0m-0.4129  \u001b[0m | \u001b[0m96.68    \u001b[0m |\n"
     ]
    },
    {
     "name": "stderr",
     "output_type": "stream",
     "text": [
      "/Users/francescostocchi/anaconda3/envs/machine_learning/lib/python3.11/site-packages/keras/src/layers/core/dense.py:88: UserWarning: Do not pass an `input_shape`/`input_dim` argument to a layer. When using Sequential models, prefer using an `Input(shape)` object as the first layer in the model instead.\n",
      "  super().__init__(activity_regularizer=activity_regularizer, **kwargs)\n"
     ]
    },
    {
     "name": "stdout",
     "output_type": "stream",
     "text": [
      "| \u001b[95m3        \u001b[0m | \u001b[95m-0.3863  \u001b[0m | \u001b[95m64.02    \u001b[0m |\n"
     ]
    },
    {
     "name": "stderr",
     "output_type": "stream",
     "text": [
      "/Users/francescostocchi/anaconda3/envs/machine_learning/lib/python3.11/site-packages/keras/src/layers/core/dense.py:88: UserWarning: Do not pass an `input_shape`/`input_dim` argument to a layer. When using Sequential models, prefer using an `Input(shape)` object as the first layer in the model instead.\n",
      "  super().__init__(activity_regularizer=activity_regularizer, **kwargs)\n"
     ]
    },
    {
     "name": "stdout",
     "output_type": "stream",
     "text": [
      "| \u001b[0m4        \u001b[0m | \u001b[0m-0.3886  \u001b[0m | \u001b[0m109.0    \u001b[0m |\n"
     ]
    },
    {
     "name": "stderr",
     "output_type": "stream",
     "text": [
      "/Users/francescostocchi/anaconda3/envs/machine_learning/lib/python3.11/site-packages/keras/src/layers/core/dense.py:88: UserWarning: Do not pass an `input_shape`/`input_dim` argument to a layer. When using Sequential models, prefer using an `Input(shape)` object as the first layer in the model instead.\n",
      "  super().__init__(activity_regularizer=activity_regularizer, **kwargs)\n"
     ]
    },
    {
     "name": "stdout",
     "output_type": "stream",
     "text": [
      "| \u001b[95m5        \u001b[0m | \u001b[95m-0.3675  \u001b[0m | \u001b[95m126.1    \u001b[0m |\n",
      "=====================================\n",
      "Best parameters: {'n_neurons': 126.0824749134673}\n"
     ]
    }
   ],
   "source": [
    "# Define the function to optimize\n",
    "def autoencoder_cv(n_neurons):\n",
    "    input_dim = X_train.shape[1]  # Number of features\n",
    "    n_neurons = int(n_neurons)\n",
    "    \n",
    "    # Encoder\n",
    "    encoder = models.Sequential([\n",
    "        layers.Dense(n_neurons, activation=\"tanh\", input_shape=(input_dim,)),\n",
    "        layers.Dense(int(n_neurons / 2), activation=\"relu\")\n",
    "    ])\n",
    "    \n",
    "    # Decoder\n",
    "    decoder = models.Sequential([\n",
    "        layers.Dense(n_neurons, activation=\"tanh\"),\n",
    "        layers.Dense(input_dim, activation=\"relu\")\n",
    "    ])\n",
    "    \n",
    "    # Autoencoder\n",
    "    autoencoder = models.Sequential([encoder, decoder])\n",
    "    \n",
    "    # Compile the model\n",
    "    autoencoder.compile(optimizer='adam', loss='mean_squared_error')\n",
    "    \n",
    "    # Early stopping to avoid overfitting\n",
    "    early_stopping = EarlyStopping(monitor='val_loss', patience=5, mode='min', restore_best_weights=True)\n",
    "    \n",
    "    # Train the autoencoder\n",
    "    autoencoder.fit(X_train, X_train,\n",
    "                    epochs=100,\n",
    "                    batch_size=256,\n",
    "                    shuffle=True,\n",
    "                    validation_data=(X_test, X_test),\n",
    "                    verbose=0, \n",
    "                    callbacks=[early_stopping])\n",
    "    \n",
    "    # Evaluate the model on the test set\n",
    "    val_loss = autoencoder.evaluate(X_test, X_test, verbose=0)\n",
    "    \n",
    "    return -val_loss\n",
    "\n",
    "# Bounded region of parameter space\n",
    "pbounds = {'n_neurons': (16, 128)}  \n",
    "\n",
    "optimizer = BayesianOptimization(\n",
    "    f=autoencoder_cv,\n",
    "    pbounds=pbounds,\n",
    "    random_state=1,\n",
    ")\n",
    "\n",
    "# Optimization\n",
    "optimizer.maximize(init_points=2, n_iter=3)\n",
    "\n",
    "# Best parameters found\n",
    "best_params = optimizer.max['params']\n",
    "n_neurons_best = int(best_params['n_neurons'])\n",
    "print(f\"Best parameters: {best_params}\")"
   ]
  },
  {
   "cell_type": "markdown",
   "metadata": {},
   "source": [
    "## AUTOENCODER"
   ]
  },
  {
   "cell_type": "code",
   "execution_count": 33,
   "metadata": {},
   "outputs": [
    {
     "name": "stderr",
     "output_type": "stream",
     "text": [
      "/Users/francescostocchi/anaconda3/envs/machine_learning/lib/python3.11/site-packages/keras/src/layers/core/dense.py:88: UserWarning: Do not pass an `input_shape`/`input_dim` argument to a layer. When using Sequential models, prefer using an `Input(shape)` object as the first layer in the model instead.\n",
      "  super().__init__(activity_regularizer=activity_regularizer, **kwargs)\n"
     ]
    }
   ],
   "source": [
    "# Reconstruct and retrain the model with the optimized parameters\n",
    "input_dim = X_train.shape[1]\n",
    "\n",
    "# Encoder\n",
    "encoder_opt = models.Sequential([\n",
    "    layers.Dense(n_neurons_best, activation=\"tanh\", input_shape=(input_dim,)),\n",
    "    layers.Dense(int(n_neurons_best / 2), activation=\"relu\")\n",
    "])\n",
    "\n",
    "# Decoder\n",
    "decoder_opt = models.Sequential([\n",
    "    layers.Dense(n_neurons_best, activation=\"tanh\"),\n",
    "    layers.Dense(input_dim, activation=\"relu\")\n",
    "])"
   ]
  },
  {
   "cell_type": "code",
   "execution_count": 34,
   "metadata": {},
   "outputs": [
    {
     "name": "stdout",
     "output_type": "stream",
     "text": [
      "Epoch 1/100\n",
      "\u001b[1m22/22\u001b[0m \u001b[32m━━━━━━━━━━━━━━━━━━━━\u001b[0m\u001b[37m\u001b[0m \u001b[1m1s\u001b[0m 5ms/step - loss: 0.6021 - val_loss: 0.6600\n",
      "Epoch 2/100\n",
      "\u001b[1m22/22\u001b[0m \u001b[32m━━━━━━━━━━━━━━━━━━━━\u001b[0m\u001b[37m\u001b[0m \u001b[1m0s\u001b[0m 2ms/step - loss: 1.5558 - val_loss: 0.6156\n",
      "Epoch 3/100\n",
      "\u001b[1m22/22\u001b[0m \u001b[32m━━━━━━━━━━━━━━━━━━━━\u001b[0m\u001b[37m\u001b[0m \u001b[1m0s\u001b[0m 2ms/step - loss: 0.8143 - val_loss: 0.5887\n",
      "Epoch 4/100\n",
      "\u001b[1m22/22\u001b[0m \u001b[32m━━━━━━━━━━━━━━━━━━━━\u001b[0m\u001b[37m\u001b[0m \u001b[1m0s\u001b[0m 2ms/step - loss: 0.4448 - val_loss: 0.5673\n",
      "Epoch 5/100\n",
      "\u001b[1m22/22\u001b[0m \u001b[32m━━━━━━━━━━━━━━━━━━━━\u001b[0m\u001b[37m\u001b[0m \u001b[1m0s\u001b[0m 2ms/step - loss: 0.5718 - val_loss: 0.5322\n",
      "Epoch 6/100\n",
      "\u001b[1m22/22\u001b[0m \u001b[32m━━━━━━━━━━━━━━━━━━━━\u001b[0m\u001b[37m\u001b[0m \u001b[1m0s\u001b[0m 2ms/step - loss: 0.5812 - val_loss: 0.5098\n",
      "Epoch 7/100\n",
      "\u001b[1m22/22\u001b[0m \u001b[32m━━━━━━━━━━━━━━━━━━━━\u001b[0m\u001b[37m\u001b[0m \u001b[1m0s\u001b[0m 2ms/step - loss: 0.7140 - val_loss: 0.4825\n",
      "Epoch 8/100\n",
      "\u001b[1m22/22\u001b[0m \u001b[32m━━━━━━━━━━━━━━━━━━━━\u001b[0m\u001b[37m\u001b[0m \u001b[1m0s\u001b[0m 2ms/step - loss: 0.5685 - val_loss: 0.4672\n",
      "Epoch 9/100\n",
      "\u001b[1m22/22\u001b[0m \u001b[32m━━━━━━━━━━━━━━━━━━━━\u001b[0m\u001b[37m\u001b[0m \u001b[1m0s\u001b[0m 2ms/step - loss: 0.1986 - val_loss: 0.4530\n",
      "Epoch 10/100\n",
      "\u001b[1m22/22\u001b[0m \u001b[32m━━━━━━━━━━━━━━━━━━━━\u001b[0m\u001b[37m\u001b[0m \u001b[1m0s\u001b[0m 2ms/step - loss: 0.7401 - val_loss: 0.4319\n",
      "Epoch 11/100\n",
      "\u001b[1m22/22\u001b[0m \u001b[32m━━━━━━━━━━━━━━━━━━━━\u001b[0m\u001b[37m\u001b[0m \u001b[1m0s\u001b[0m 2ms/step - loss: 0.4997 - val_loss: 0.4192\n",
      "Epoch 12/100\n",
      "\u001b[1m22/22\u001b[0m \u001b[32m━━━━━━━━━━━━━━━━━━━━\u001b[0m\u001b[37m\u001b[0m \u001b[1m0s\u001b[0m 2ms/step - loss: 0.3879 - val_loss: 0.4095\n",
      "Epoch 13/100\n",
      "\u001b[1m22/22\u001b[0m \u001b[32m━━━━━━━━━━━━━━━━━━━━\u001b[0m\u001b[37m\u001b[0m \u001b[1m0s\u001b[0m 2ms/step - loss: 0.2486 - val_loss: 0.4029\n",
      "Epoch 14/100\n",
      "\u001b[1m22/22\u001b[0m \u001b[32m━━━━━━━━━━━━━━━━━━━━\u001b[0m\u001b[37m\u001b[0m \u001b[1m0s\u001b[0m 2ms/step - loss: 0.3634 - val_loss: 0.3890\n",
      "Epoch 15/100\n",
      "\u001b[1m22/22\u001b[0m \u001b[32m━━━━━━━━━━━━━━━━━━━━\u001b[0m\u001b[37m\u001b[0m \u001b[1m0s\u001b[0m 2ms/step - loss: 0.8147 - val_loss: 0.3826\n",
      "Epoch 16/100\n",
      "\u001b[1m22/22\u001b[0m \u001b[32m━━━━━━━━━━━━━━━━━━━━\u001b[0m\u001b[37m\u001b[0m \u001b[1m0s\u001b[0m 2ms/step - loss: 0.5294 - val_loss: 0.3704\n",
      "Epoch 17/100\n",
      "\u001b[1m22/22\u001b[0m \u001b[32m━━━━━━━━━━━━━━━━━━━━\u001b[0m\u001b[37m\u001b[0m \u001b[1m0s\u001b[0m 2ms/step - loss: 0.6608 - val_loss: 0.3683\n",
      "Epoch 18/100\n",
      "\u001b[1m22/22\u001b[0m \u001b[32m━━━━━━━━━━━━━━━━━━━━\u001b[0m\u001b[37m\u001b[0m \u001b[1m0s\u001b[0m 2ms/step - loss: 0.6698 - val_loss: 0.3646\n",
      "Epoch 19/100\n",
      "\u001b[1m22/22\u001b[0m \u001b[32m━━━━━━━━━━━━━━━━━━━━\u001b[0m\u001b[37m\u001b[0m \u001b[1m0s\u001b[0m 2ms/step - loss: 0.3265 - val_loss: 0.3663\n",
      "Epoch 20/100\n",
      "\u001b[1m22/22\u001b[0m \u001b[32m━━━━━━━━━━━━━━━━━━━━\u001b[0m\u001b[37m\u001b[0m \u001b[1m0s\u001b[0m 2ms/step - loss: 0.1559 - val_loss: 0.3675\n",
      "Epoch 21/100\n",
      "\u001b[1m22/22\u001b[0m \u001b[32m━━━━━━━━━━━━━━━━━━━━\u001b[0m\u001b[37m\u001b[0m \u001b[1m0s\u001b[0m 2ms/step - loss: 0.5398 - val_loss: 0.3353\n",
      "Epoch 22/100\n",
      "\u001b[1m22/22\u001b[0m \u001b[32m━━━━━━━━━━━━━━━━━━━━\u001b[0m\u001b[37m\u001b[0m \u001b[1m0s\u001b[0m 2ms/step - loss: 0.1729 - val_loss: 0.3573\n",
      "Epoch 23/100\n",
      "\u001b[1m22/22\u001b[0m \u001b[32m━━━━━━━━━━━━━━━━━━━━\u001b[0m\u001b[37m\u001b[0m \u001b[1m0s\u001b[0m 2ms/step - loss: 0.6835 - val_loss: 0.3491\n",
      "Epoch 24/100\n",
      "\u001b[1m22/22\u001b[0m \u001b[32m━━━━━━━━━━━━━━━━━━━━\u001b[0m\u001b[37m\u001b[0m \u001b[1m0s\u001b[0m 2ms/step - loss: 0.2900 - val_loss: 0.3496\n",
      "Epoch 25/100\n",
      "\u001b[1m22/22\u001b[0m \u001b[32m━━━━━━━━━━━━━━━━━━━━\u001b[0m\u001b[37m\u001b[0m \u001b[1m0s\u001b[0m 2ms/step - loss: 0.3926 - val_loss: 0.3432\n",
      "Epoch 26/100\n",
      "\u001b[1m22/22\u001b[0m \u001b[32m━━━━━━━━━━━━━━━━━━━━\u001b[0m\u001b[37m\u001b[0m \u001b[1m0s\u001b[0m 2ms/step - loss: 0.4624 - val_loss: 0.3446\n"
     ]
    },
    {
     "data": {
      "text/plain": [
       "<keras.src.callbacks.history.History at 0x29ad67a50>"
      ]
     },
     "execution_count": 34,
     "metadata": {},
     "output_type": "execute_result"
    }
   ],
   "source": [
    "# Autoencoder\n",
    "autoencoder_opt = models.Sequential([encoder_opt, decoder_opt])\n",
    "\n",
    "# Compile the model\n",
    "autoencoder_opt.compile(optimizer='adam', loss='mean_squared_error')\n",
    "\n",
    "# Early stopping to avoid overfitting\n",
    "early_stopping = EarlyStopping(monitor='val_loss', patience=5, mode='min', restore_best_weights=True)\n",
    "\n",
    "# Train the autoencoder\n",
    "autoencoder_opt.fit(X_train, X_train,\n",
    "                    epochs=100,\n",
    "                    batch_size=256,\n",
    "                    shuffle=True,\n",
    "                    validation_data=(X_test, X_test),\n",
    "                    verbose=1,  # You can turn off the verbose for less output\n",
    "                    callbacks=[early_stopping])"
   ]
  },
  {
   "cell_type": "code",
   "execution_count": 35,
   "metadata": {},
   "outputs": [
    {
     "name": "stdout",
     "output_type": "stream",
     "text": [
      "\u001b[1m73/73\u001b[0m \u001b[32m━━━━━━━━━━━━━━━━━━━━\u001b[0m\u001b[37m\u001b[0m \u001b[1m0s\u001b[0m 803us/step\n"
     ]
    }
   ],
   "source": [
    "# Predict on the test set\n",
    "reconstructed = autoencoder_opt.predict(X_test)\n",
    "\n",
    "# Compute reconstruction error\n",
    "mse = np.mean(np.power(X_test - reconstructed, 2), axis=1)\n",
    "mse = np.array(mse)  \n",
    "mse = mse.reshape(-1, 1)\n",
    "\n",
    "# Use a threshold to classify transactions as normal or anomaly\n",
    "threshold = np.quantile(mse, 0.95)  # Adjust based on your requirement\n",
    "y_pred = [1 if e > threshold else 0 for e in mse.flatten()]"
   ]
  },
  {
   "cell_type": "code",
   "execution_count": 36,
   "metadata": {},
   "outputs": [],
   "source": [
    "def plot_confusion_matrix(cm, classes,\n",
    "                          normalize=True, # True for normalization and False for normalization\n",
    "                          title='Confusion matrix',\n",
    "                          cmap=plt.cm.Blues):\n",
    "    if normalize:\n",
    "        cm = cm.astype('float') / cm.sum(axis=1)[:, np.newaxis]\n",
    "        print(\"Normalized confusion matrix\")\n",
    "    else:\n",
    "        print('Confusion matrix, without normalization')\n",
    "\n",
    "    print(cm)\n",
    "\n",
    "    plt.imshow(cm, interpolation='nearest', cmap=cmap)\n",
    "    plt.title(title)\n",
    "    plt.colorbar()\n",
    "    tick_marks = np.arange(len(classes))\n",
    "    plt.xticks(tick_marks, classes, rotation=45)\n",
    "    plt.yticks(tick_marks, classes)\n",
    "\n",
    "    # Define the threshold for changing the text color in the blocks\n",
    "    thresh = cm.max() / 2.\n",
    "\n",
    "    # Annotate the blocks\n",
    "    for i, j in itertools.product(range(cm.shape[0]), range(cm.shape[1])):\n",
    "        plt.text(j, i, f\"{cm[i, j]:.2f}\\n(TP)\" if i == j and i == 1 else\n",
    "                 f\"{cm[i, j]:.2f}\\n(TN)\" if i == j and i == 0 else\n",
    "                 f\"{cm[i, j]:.2f}\\n(FP)\" if j == 1 else\n",
    "                 f\"{cm[i, j]:.2f}\\n(FN)\",\n",
    "                 horizontalalignment=\"center\",\n",
    "                 verticalalignment=\"center\",\n",
    "                 color=\"white\" if cm[i, j] > thresh else \"black\")\n",
    "\n",
    "    plt.ylabel('True label')\n",
    "    plt.xlabel('Predicted label')\n",
    "    plt.tight_layout()"
   ]
  },
  {
   "cell_type": "code",
   "execution_count": 37,
   "metadata": {},
   "outputs": [
    {
     "name": "stdout",
     "output_type": "stream",
     "text": [
      "Confusion Matrix \n",
      "[[2120  106]\n",
      " [  98   11]]\n",
      "Normalized confusion matrix\n",
      "[[0.95238095 0.04761905]\n",
      " [0.89908257 0.10091743]]\n"
     ]
    },
    {
     "data": {
      "image/png": "[encoded data removed]",
      "text/plain": [
       "<Figure size 640x480 with 2 Axes>"
      ]
     },
     "metadata": {},
     "output_type": "display_data"
    }
   ],
   "source": [
    "# Calculate the confusion matrix\n",
    "cnf_matrix = confusion_matrix(y_test,y_pred)\n",
    "print(f'Confusion Matrix \\n{cnf_matrix}')\n",
    "plot_confusion_matrix(cnf_matrix, classes=['Negative (0)', 'Positive (1)'])\n",
    "plt.show()"
   ]
  }
 ],
 "metadata": {
  "kernelspec": {
   "display_name": "advance_machine_learning",
   "language": "python",
   "name": "python3"
  },
  "language_info": {
   "codemirror_mode": {
    "name": "ipython",
    "version": 3
   },
   "file_extension": ".py",
   "mimetype": "text/x-python",
   "name": "python",
   "nbconvert_exporter": "python",
   "pygments_lexer": "ipython3",
   "version": "3.11.7"
  }
 },
 "nbformat": 4,
 "nbformat_minor": 2
}
